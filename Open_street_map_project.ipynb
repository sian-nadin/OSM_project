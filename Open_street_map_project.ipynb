{
 "cells": [
  {
   "cell_type": "markdown",
   "metadata": {},
   "source": [
    "# Open Street Map data\n",
    "\n",
    "## Project Overview\n",
    "The aim of this project is to choose any area of the world in https://www.openstreetmap.org and use data wrangling techniques, such as assessing the quality of the data for validity, accuracy, completeness, consistency and uniformity, to clean the OpenStreetMap data for that part of the world. Once the data has been cleaned SQL will will be used to query and aggregate the data.\n",
    "\n",
    "### OSM Dataset\n",
    "The area selected for this project is Dublin city in Ireland. Dublin is the capital city of Ireland with a population of 1,347,359 people. I chose Dublin as I've lived there for nearly 10 years and am quite familiar with the area. \n",
    "\n",
    "* Location: Dublin, Ireland\n",
    "* [OpenStreetMap URL](https://www.openstreetmap.org/export#map=11/53.3549/-6.2512)\n",
    "* [MapZen URL](https://mapzen.com/data/metro-extracts/metro/dublin_ireland/) "
   ]
  },
  {
   "cell_type": "markdown",
   "metadata": {},
   "source": [
    "## Data Overview"
   ]
  },
  {
   "cell_type": "markdown",
   "metadata": {},
   "source": [
    "Let's get an idea of what the top level tags are in the OSM file. Since the file is quite large iterative parsing will be used to process the map file and find out what tags are there, as well as how many, to get the feeling on how much of which data you can expect to have in the map."
   ]
  },
  {
   "cell_type": "code",
   "execution_count": 1,
   "metadata": {},
   "outputs": [],
   "source": [
    "OSMFILE = \"dublin_ireland.osm\""
   ]
  },
  {
   "cell_type": "code",
   "execution_count": 2,
   "metadata": {},
   "outputs": [
    {
     "data": {
      "text/plain": [
       "{'bounds': 1,\n",
       " 'member': 91716,\n",
       " 'nd': 2028541,\n",
       " 'node': 1469711,\n",
       " 'osm': 1,\n",
       " 'relation': 4989,\n",
       " 'tag': 1060747,\n",
       " 'way': 269763}"
      ]
     },
     "execution_count": 2,
     "metadata": {},
     "output_type": "execute_result"
    }
   ],
   "source": [
    "import top_level_tags\n",
    "top_level_tags.count_tags(OSMFILE)"
   ]
  },
  {
   "cell_type": "markdown",
   "metadata": {},
   "source": [
    "The file is 369.4 MB and there are nearly 5,000,000 top level tags. "
   ]
  },
  {
   "cell_type": "markdown",
   "metadata": {},
   "source": [
    "### Check for potential problems in tags"
   ]
  },
  {
   "cell_type": "markdown",
   "metadata": {},
   "source": [
    "Let's explore the data a bit more. Before processing the data and adding it into a database, we can check the\n",
    "\"k\" value for each \"tag\" tag and see if there are any potential problems.\n",
    "\n",
    "We can get a count of each of four tag categories in a dictionary:\n",
    "* \"lower\", for tags that contain only lowercase letters and are valid,\n",
    "* \"lower_colon\", for otherwise valid tags with a colon in their names,\n",
    "* \"problemchars\", for tags with problematic characters, and\n",
    "* \"other\", for other tags that do not fall into the other three categories."
   ]
  },
  {
   "cell_type": "code",
   "execution_count": 3,
   "metadata": {},
   "outputs": [
    {
     "data": {
      "text/plain": [
       "{'lower': 673577, 'lower_colon': 342839, 'other': 44331, 'problemchars': 0}"
      ]
     },
     "execution_count": 3,
     "metadata": {},
     "output_type": "execute_result"
    }
   ],
   "source": [
    "import tagtype\n",
    "tagtype.process_map(OSMFILE)"
   ]
  },
  {
   "cell_type": "markdown",
   "metadata": {},
   "source": [
    "### Number of contributors"
   ]
  },
  {
   "cell_type": "markdown",
   "metadata": {},
   "source": [
    "OpenStreetMap consists of data contributed by multiple people. Each piece of data in the OSMFILE is accompanied by the user_id of the person who entered it. We can find out how many people have contributed towards the data the makes up the map of Dublin:"
   ]
  },
  {
   "cell_type": "code",
   "execution_count": 4,
   "metadata": {},
   "outputs": [
    {
     "name": "stdout",
     "output_type": "stream",
     "text": [
      "Number of unique contributors: 1602\n"
     ]
    }
   ],
   "source": [
    "import users\n",
    "users.number_of_users(OSMFILE)"
   ]
  },
  {
   "cell_type": "markdown",
   "metadata": {},
   "source": [
    "## Data Auditing\n",
    "\n",
    "The following steps will be taken to audit the OSMFILE:\n",
    "1. Create a variable, 'mapping', that will replace incorrect or inconsistent entries with appropriate names/formating. Only problems found in this OSMFILE will use mapping rather than a generalized solution, since that may and will depend on the particular area being audited.\n",
    "2. Write a function to actually fix the street name. The function takes a string with street name as an argument and should return the fixed version."
   ]
  },
  {
   "cell_type": "markdown",
   "metadata": {},
   "source": [
    "### 1. Fix street names"
   ]
  },
  {
   "cell_type": "code",
   "execution_count": 13,
   "metadata": {},
   "outputs": [],
   "source": [
    "%%capture\n",
    "import audit\n",
    "audit.audit_street(OSMFILE)"
   ]
  },
  {
   "cell_type": "markdown",
   "metadata": {},
   "source": [
    "Although plenty of extra street names show up that weren't in the expected list, most of them are less common street names that are acceptable. There are a few abbreviated street names and some spelling mistakes that can be fixed using mapping."
   ]
  },
  {
   "cell_type": "code",
   "execution_count": 6,
   "metadata": {},
   "outputs": [
    {
     "name": "stdout",
     "output_type": "stream",
     "text": [
      "Strand Rd. => Strand Road\n",
      "Upper Gardiner St. => Upper Gardiner Street\n",
      "Charlemont St. => Charlemont Street\n",
      "Old Dublin Roafd => Old Dublin Road\n",
      "Griffith Ave => Griffith Avenue\n",
      "First Ave => First Avenue\n",
      "Spruce Ave => Spruce Avenue\n",
      "The Rise,Belgard heights => The Rise,Belgard Heights\n",
      "Ballinclea heights => Ballinclea Heights\n",
      "Charlestown Shopping Cente => Charlestown Shopping Centre\n",
      "library square => library Square\n",
      "Francis St => Francis Street\n",
      "Woodview Heichts => Woodview Heights\n",
      "Oak Ridge Cres => Oak Ridge Crescent\n",
      "Suffolk street => Suffolk Street\n",
      "Earl street => Earl Street\n",
      "Grafton street => Grafton Street\n",
      "O'Reilly Aveune => O'Reilly Avenue\n",
      "New market hall => New market Hall\n",
      "St Johns Rd => St Johns Road\n",
      "Novara road => Novara Road\n",
      "Warner's lane => Warner's Lane\n",
      "Hanbury lane => Hanbury Lane\n"
     ]
    },
    {
     "data": {
      "text/plain": [
       "'Clonkeen'"
      ]
     },
     "execution_count": 6,
     "metadata": {},
     "output_type": "execute_result"
    }
   ],
   "source": [
    "audit.update_street_name(OSMFILE)"
   ]
  },
  {
   "cell_type": "markdown",
   "metadata": {},
   "source": [
    "### 2. Fix Eircodes (Postal codes)"
   ]
  },
  {
   "cell_type": "code",
   "execution_count": 12,
   "metadata": {},
   "outputs": [],
   "source": [
    "%%capture\n",
    "import eircodes\n",
    "eircodes.audit(OSMFILE)"
   ]
  },
  {
   "cell_type": "markdown",
   "metadata": {},
   "source": [
    "The acceptable format for Eircodes is XXX XXXX. Some of the Eircodes are missing the space in the middle so we'll fix this. \n",
    "\n",
    "Ireland recently introduced Eircodes which each represent a single building. There are some post codes that are still using the old convention of postcode which was listed as Dublin and a number to indicate the region of Dublin, e.g \"Dublin 2\". The numbers listed at the top are likely from the older system of postcodes where it was common to either list a postcode in the format \"Dublin 2\", \"D2\" or just \"2\" to specify the region of Dublin. \n",
    "\n",
    "These old post codes can't be easily translated to Eircodes. The old convention represented a region within Dublin but the new Eircodes represent specific buildings. So for each of the old post codes there are now hundreds of unique Eircodes in it's place. To convert over to the new system would require time consuming manual work of pin pointing each of the specific building and finding out what the newly assigned Eircode is for that building. So, we will just stick to tidying up the formatting for the new Eircodes that have been entered."
   ]
  },
  {
   "cell_type": "code",
   "execution_count": 8,
   "metadata": {},
   "outputs": [
    {
     "name": "stdout",
     "output_type": "stream",
     "text": [
      "D01X2P2 => D01 X2P2\n",
      "D15KPW7 => D15 KPW7\n",
      "D02X285 => D02 X285\n",
      "D05N7F2 => D05 N7F2\n",
      "D08P 89W => D08 P89W\n",
      "D6WXK28 => D6W XK28\n",
      "d09 f6x0 => D09 F6X0\n",
      "D09VY19 => D09 VY19\n"
     ]
    },
    {
     "data": {
      "text/plain": [
       "'D01 NW14'"
      ]
     },
     "execution_count": 8,
     "metadata": {},
     "output_type": "execute_result"
    }
   ],
   "source": [
    "eircodes.update_eircode(OSMFILE)"
   ]
  },
  {
   "cell_type": "markdown",
   "metadata": {},
   "source": [
    "## Preparing Data for Database"
   ]
  },
  {
   "cell_type": "markdown",
   "metadata": {},
   "source": [
    "After auditing is complete the next step is to prepare the data to be inserted into a SQL database. To do so we will parse the elements in the OSM XML file, transforming them from document format to tabular format, thus making it possible to write to .csv files.  These csv files can then easily be imported to a SQL database as tables. \n",
    "\n",
    "The process for this transformation is as follows:\n",
    "- Use iterparse to iteratively step through each top level element in the XML\n",
    "- Shape each element into several data structures using a custom function\n",
    "- Utilize a schema and validation library to ensure the transformed data is in the correct format\n",
    "- Write each data structure to the appropriate .csv files\n",
    "\n",
    "The data.py file generates the following csv files:\n",
    "* nodes_tags.csv\n",
    "* nodes.csv \n",
    "* ways_nodes.csv\n",
    "* ways_tags.csv\n",
    "* ways.csv"
   ]
  },
  {
   "cell_type": "markdown",
   "metadata": {},
   "source": [
    "We can import the csv files into pandas to get a quick look at the data contained within the csv files:"
   ]
  },
  {
   "cell_type": "code",
   "execution_count": 4,
   "metadata": {},
   "outputs": [],
   "source": [
    "import pandas as pd\n",
    "df_node = pd.read_csv('nodes.csv')\n",
    "df_nodes_tags = pd.read_csv('nodes_tags.csv')\n",
    "df_ways = pd.read_csv('ways.csv')\n",
    "df_ways_tags = pd.read_csv('ways_tags.csv')\n",
    "df_ways_nodes = pd.read_csv('ways_nodes.csv')"
   ]
  },
  {
   "cell_type": "code",
   "execution_count": 2,
   "metadata": {},
   "outputs": [
    {
     "data": {
      "text/html": [
       "<div>\n",
       "<style scoped>\n",
       "    .dataframe tbody tr th:only-of-type {\n",
       "        vertical-align: middle;\n",
       "    }\n",
       "\n",
       "    .dataframe tbody tr th {\n",
       "        vertical-align: top;\n",
       "    }\n",
       "\n",
       "    .dataframe thead th {\n",
       "        text-align: right;\n",
       "    }\n",
       "</style>\n",
       "<table border=\"1\" class=\"dataframe\">\n",
       "  <thead>\n",
       "    <tr style=\"text-align: right;\">\n",
       "      <th></th>\n",
       "      <th>id</th>\n",
       "      <th>lat</th>\n",
       "      <th>lon</th>\n",
       "      <th>user</th>\n",
       "      <th>uid</th>\n",
       "      <th>version</th>\n",
       "      <th>changeset</th>\n",
       "      <th>timestamp</th>\n",
       "    </tr>\n",
       "  </thead>\n",
       "  <tbody>\n",
       "    <tr>\n",
       "      <th>0</th>\n",
       "      <td>384519</td>\n",
       "      <td>53.376342</td>\n",
       "      <td>-6.369919</td>\n",
       "      <td>Joe E</td>\n",
       "      <td>114310</td>\n",
       "      <td>3</td>\n",
       "      <td>5277755</td>\n",
       "      <td>2010-07-21T10:37:10Z</td>\n",
       "    </tr>\n",
       "    <tr>\n",
       "      <th>1</th>\n",
       "      <td>385708</td>\n",
       "      <td>53.388803</td>\n",
       "      <td>-6.353715</td>\n",
       "      <td>mackerski</td>\n",
       "      <td>6367</td>\n",
       "      <td>4</td>\n",
       "      <td>24196387</td>\n",
       "      <td>2014-07-17T08:22:15Z</td>\n",
       "    </tr>\n",
       "    <tr>\n",
       "      <th>2</th>\n",
       "      <td>385740</td>\n",
       "      <td>53.390833</td>\n",
       "      <td>-6.379218</td>\n",
       "      <td>mackerski</td>\n",
       "      <td>6367</td>\n",
       "      <td>1</td>\n",
       "      <td>3703</td>\n",
       "      <td>2007-04-01T01:02:49Z</td>\n",
       "    </tr>\n",
       "    <tr>\n",
       "      <th>3</th>\n",
       "      <td>385752</td>\n",
       "      <td>53.388140</td>\n",
       "      <td>-6.379561</td>\n",
       "      <td>mackerski</td>\n",
       "      <td>6367</td>\n",
       "      <td>5</td>\n",
       "      <td>19334388</td>\n",
       "      <td>2013-12-08T02:00:11Z</td>\n",
       "    </tr>\n",
       "    <tr>\n",
       "      <th>4</th>\n",
       "      <td>385807</td>\n",
       "      <td>53.406947</td>\n",
       "      <td>-6.301549</td>\n",
       "      <td>ManAboutCouch</td>\n",
       "      <td>51337</td>\n",
       "      <td>7</td>\n",
       "      <td>5853138</td>\n",
       "      <td>2010-09-23T11:14:39Z</td>\n",
       "    </tr>\n",
       "  </tbody>\n",
       "</table>\n",
       "</div>"
      ],
      "text/plain": [
       "       id        lat       lon           user     uid  version  changeset  \\\n",
       "0  384519  53.376342 -6.369919          Joe E  114310        3    5277755   \n",
       "1  385708  53.388803 -6.353715      mackerski    6367        4   24196387   \n",
       "2  385740  53.390833 -6.379218      mackerski    6367        1       3703   \n",
       "3  385752  53.388140 -6.379561      mackerski    6367        5   19334388   \n",
       "4  385807  53.406947 -6.301549  ManAboutCouch   51337        7    5853138   \n",
       "\n",
       "              timestamp  \n",
       "0  2010-07-21T10:37:10Z  \n",
       "1  2014-07-17T08:22:15Z  \n",
       "2  2007-04-01T01:02:49Z  \n",
       "3  2013-12-08T02:00:11Z  \n",
       "4  2010-09-23T11:14:39Z  "
      ]
     },
     "execution_count": 2,
     "metadata": {},
     "output_type": "execute_result"
    }
   ],
   "source": [
    "df_node.head()"
   ]
  },
  {
   "cell_type": "code",
   "execution_count": 5,
   "metadata": {},
   "outputs": [
    {
     "data": {
      "text/html": [
       "<div>\n",
       "<style scoped>\n",
       "    .dataframe tbody tr th:only-of-type {\n",
       "        vertical-align: middle;\n",
       "    }\n",
       "\n",
       "    .dataframe tbody tr th {\n",
       "        vertical-align: top;\n",
       "    }\n",
       "\n",
       "    .dataframe thead th {\n",
       "        text-align: right;\n",
       "    }\n",
       "</style>\n",
       "<table border=\"1\" class=\"dataframe\">\n",
       "  <thead>\n",
       "    <tr style=\"text-align: right;\">\n",
       "      <th></th>\n",
       "      <th>id</th>\n",
       "      <th>key</th>\n",
       "      <th>value</th>\n",
       "      <th>type</th>\n",
       "    </tr>\n",
       "  </thead>\n",
       "  <tbody>\n",
       "    <tr>\n",
       "      <th>0</th>\n",
       "      <td>385740</td>\n",
       "      <td>created_by</td>\n",
       "      <td>YahooApplet 1.0</td>\n",
       "      <td>regular</td>\n",
       "    </tr>\n",
       "    <tr>\n",
       "      <th>1</th>\n",
       "      <td>385935</td>\n",
       "      <td>highway</td>\n",
       "      <td>traffic_signals</td>\n",
       "      <td>regular</td>\n",
       "    </tr>\n",
       "    <tr>\n",
       "      <th>2</th>\n",
       "      <td>386265</td>\n",
       "      <td>highway</td>\n",
       "      <td>traffic_signals</td>\n",
       "      <td>regular</td>\n",
       "    </tr>\n",
       "    <tr>\n",
       "      <th>3</th>\n",
       "      <td>386490</td>\n",
       "      <td>created_by</td>\n",
       "      <td>YahooApplet 1.0</td>\n",
       "      <td>regular</td>\n",
       "    </tr>\n",
       "    <tr>\n",
       "      <th>4</th>\n",
       "      <td>389630</td>\n",
       "      <td>highway</td>\n",
       "      <td>crossing</td>\n",
       "      <td>regular</td>\n",
       "    </tr>\n",
       "  </tbody>\n",
       "</table>\n",
       "</div>"
      ],
      "text/plain": [
       "       id         key            value     type\n",
       "0  385740  created_by  YahooApplet 1.0  regular\n",
       "1  385935     highway  traffic_signals  regular\n",
       "2  386265     highway  traffic_signals  regular\n",
       "3  386490  created_by  YahooApplet 1.0  regular\n",
       "4  389630     highway         crossing  regular"
      ]
     },
     "execution_count": 5,
     "metadata": {},
     "output_type": "execute_result"
    }
   ],
   "source": [
    "df_nodes_tags.head()"
   ]
  },
  {
   "cell_type": "code",
   "execution_count": 6,
   "metadata": {},
   "outputs": [
    {
     "data": {
      "text/html": [
       "<div>\n",
       "<style scoped>\n",
       "    .dataframe tbody tr th:only-of-type {\n",
       "        vertical-align: middle;\n",
       "    }\n",
       "\n",
       "    .dataframe tbody tr th {\n",
       "        vertical-align: top;\n",
       "    }\n",
       "\n",
       "    .dataframe thead th {\n",
       "        text-align: right;\n",
       "    }\n",
       "</style>\n",
       "<table border=\"1\" class=\"dataframe\">\n",
       "  <thead>\n",
       "    <tr style=\"text-align: right;\">\n",
       "      <th></th>\n",
       "      <th>id</th>\n",
       "      <th>user</th>\n",
       "      <th>uid</th>\n",
       "      <th>version</th>\n",
       "      <th>changeset</th>\n",
       "      <th>timestamp</th>\n",
       "    </tr>\n",
       "  </thead>\n",
       "  <tbody>\n",
       "    <tr>\n",
       "      <th>0</th>\n",
       "      <td>2110697</td>\n",
       "      <td>VictorIE</td>\n",
       "      <td>2008037</td>\n",
       "      <td>9</td>\n",
       "      <td>47167020</td>\n",
       "      <td>2017-03-26T04:09:12Z</td>\n",
       "    </tr>\n",
       "    <tr>\n",
       "      <th>1</th>\n",
       "      <td>2294449</td>\n",
       "      <td>VictorIE</td>\n",
       "      <td>2008037</td>\n",
       "      <td>12</td>\n",
       "      <td>52193319</td>\n",
       "      <td>2017-09-19T20:55:52Z</td>\n",
       "    </tr>\n",
       "    <tr>\n",
       "      <th>2</th>\n",
       "      <td>2642220</td>\n",
       "      <td>Throwaway241</td>\n",
       "      <td>5308354</td>\n",
       "      <td>5</td>\n",
       "      <td>48714756</td>\n",
       "      <td>2017-05-15T22:29:50Z</td>\n",
       "    </tr>\n",
       "    <tr>\n",
       "      <th>3</th>\n",
       "      <td>2684343</td>\n",
       "      <td>VictorIE</td>\n",
       "      <td>2008037</td>\n",
       "      <td>5</td>\n",
       "      <td>21820716</td>\n",
       "      <td>2014-04-20T18:35:38Z</td>\n",
       "    </tr>\n",
       "    <tr>\n",
       "      <th>4</th>\n",
       "      <td>2684725</td>\n",
       "      <td>mackerski</td>\n",
       "      <td>6367</td>\n",
       "      <td>7</td>\n",
       "      <td>24748711</td>\n",
       "      <td>2014-08-14T15:56:37Z</td>\n",
       "    </tr>\n",
       "  </tbody>\n",
       "</table>\n",
       "</div>"
      ],
      "text/plain": [
       "        id          user      uid  version  changeset             timestamp\n",
       "0  2110697      VictorIE  2008037        9   47167020  2017-03-26T04:09:12Z\n",
       "1  2294449      VictorIE  2008037       12   52193319  2017-09-19T20:55:52Z\n",
       "2  2642220  Throwaway241  5308354        5   48714756  2017-05-15T22:29:50Z\n",
       "3  2684343      VictorIE  2008037        5   21820716  2014-04-20T18:35:38Z\n",
       "4  2684725     mackerski     6367        7   24748711  2014-08-14T15:56:37Z"
      ]
     },
     "execution_count": 6,
     "metadata": {},
     "output_type": "execute_result"
    }
   ],
   "source": [
    "df_ways.head()"
   ]
  },
  {
   "cell_type": "code",
   "execution_count": 7,
   "metadata": {},
   "outputs": [
    {
     "data": {
      "text/html": [
       "<div>\n",
       "<style scoped>\n",
       "    .dataframe tbody tr th:only-of-type {\n",
       "        vertical-align: middle;\n",
       "    }\n",
       "\n",
       "    .dataframe tbody tr th {\n",
       "        vertical-align: top;\n",
       "    }\n",
       "\n",
       "    .dataframe thead th {\n",
       "        text-align: right;\n",
       "    }\n",
       "</style>\n",
       "<table border=\"1\" class=\"dataframe\">\n",
       "  <thead>\n",
       "    <tr style=\"text-align: right;\">\n",
       "      <th></th>\n",
       "      <th>id</th>\n",
       "      <th>key</th>\n",
       "      <th>value</th>\n",
       "      <th>type</th>\n",
       "    </tr>\n",
       "  </thead>\n",
       "  <tbody>\n",
       "    <tr>\n",
       "      <th>0</th>\n",
       "      <td>2110697</td>\n",
       "      <td>name</td>\n",
       "      <td>St. Stephen's Green</td>\n",
       "      <td>regular</td>\n",
       "    </tr>\n",
       "    <tr>\n",
       "      <th>1</th>\n",
       "      <td>2110697</td>\n",
       "      <td>lanes</td>\n",
       "      <td>1</td>\n",
       "      <td>regular</td>\n",
       "    </tr>\n",
       "    <tr>\n",
       "      <th>2</th>\n",
       "      <td>2110697</td>\n",
       "      <td>oneway</td>\n",
       "      <td>yes</td>\n",
       "      <td>regular</td>\n",
       "    </tr>\n",
       "    <tr>\n",
       "      <th>3</th>\n",
       "      <td>2110697</td>\n",
       "      <td>highway</td>\n",
       "      <td>unclassified</td>\n",
       "      <td>regular</td>\n",
       "    </tr>\n",
       "    <tr>\n",
       "      <th>4</th>\n",
       "      <td>2110697</td>\n",
       "      <td>en</td>\n",
       "      <td>St. Stephen's Green</td>\n",
       "      <td>name</td>\n",
       "    </tr>\n",
       "  </tbody>\n",
       "</table>\n",
       "</div>"
      ],
      "text/plain": [
       "        id      key                value     type\n",
       "0  2110697     name  St. Stephen's Green  regular\n",
       "1  2110697    lanes                    1  regular\n",
       "2  2110697   oneway                  yes  regular\n",
       "3  2110697  highway         unclassified  regular\n",
       "4  2110697       en  St. Stephen's Green     name"
      ]
     },
     "execution_count": 7,
     "metadata": {},
     "output_type": "execute_result"
    }
   ],
   "source": [
    "df_ways_tags.head()"
   ]
  },
  {
   "cell_type": "code",
   "execution_count": 8,
   "metadata": {},
   "outputs": [
    {
     "data": {
      "text/html": [
       "<div>\n",
       "<style scoped>\n",
       "    .dataframe tbody tr th:only-of-type {\n",
       "        vertical-align: middle;\n",
       "    }\n",
       "\n",
       "    .dataframe tbody tr th {\n",
       "        vertical-align: top;\n",
       "    }\n",
       "\n",
       "    .dataframe thead th {\n",
       "        text-align: right;\n",
       "    }\n",
       "</style>\n",
       "<table border=\"1\" class=\"dataframe\">\n",
       "  <thead>\n",
       "    <tr style=\"text-align: right;\">\n",
       "      <th></th>\n",
       "      <th>id</th>\n",
       "      <th>node_id</th>\n",
       "      <th>position</th>\n",
       "    </tr>\n",
       "  </thead>\n",
       "  <tbody>\n",
       "    <tr>\n",
       "      <th>0</th>\n",
       "      <td>2110697</td>\n",
       "      <td>4009885977</td>\n",
       "      <td>0</td>\n",
       "    </tr>\n",
       "    <tr>\n",
       "      <th>1</th>\n",
       "      <td>2110697</td>\n",
       "      <td>389664</td>\n",
       "      <td>1</td>\n",
       "    </tr>\n",
       "    <tr>\n",
       "      <th>2</th>\n",
       "      <td>2110697</td>\n",
       "      <td>26165089</td>\n",
       "      <td>2</td>\n",
       "    </tr>\n",
       "    <tr>\n",
       "      <th>3</th>\n",
       "      <td>2294449</td>\n",
       "      <td>9100863</td>\n",
       "      <td>0</td>\n",
       "    </tr>\n",
       "    <tr>\n",
       "      <th>4</th>\n",
       "      <td>2294449</td>\n",
       "      <td>1998326263</td>\n",
       "      <td>1</td>\n",
       "    </tr>\n",
       "  </tbody>\n",
       "</table>\n",
       "</div>"
      ],
      "text/plain": [
       "        id     node_id  position\n",
       "0  2110697  4009885977         0\n",
       "1  2110697      389664         1\n",
       "2  2110697    26165089         2\n",
       "3  2294449     9100863         0\n",
       "4  2294449  1998326263         1"
      ]
     },
     "execution_count": 8,
     "metadata": {},
     "output_type": "execute_result"
    }
   ],
   "source": [
    "df_ways_nodes.head()"
   ]
  },
  {
   "cell_type": "markdown",
   "metadata": {},
   "source": [
    "## Data Exploration\n",
    "\n",
    "This section will explore the data within the CSV files using SQL. The data was imported into 5 seperate tables using SQLite by entering \".mode csv\" followed by importing the csv file. This was done on the sample.osm file as the original file was too large for creating csv files."
   ]
  },
  {
   "cell_type": "markdown",
   "metadata": {},
   "source": [
    "### File sizes:\n",
    "* dublin_ireland.osm - 369.2 MB\n",
    "* sample_osm - 10.6  MB\n",
    "* nodes.csv - 4.2 MB\n",
    "* nodes_tags.csv - 201 KB \n",
    "* ways.csv - 463 KB\n",
    "* ways_tags.csv - 922 KB\n",
    "* ways_nodes.csv - 2.1 MB"
   ]
  },
  {
   "cell_type": "markdown",
   "metadata": {},
   "source": [
    "## Number of nodes and ways:"
   ]
  },
  {
   "cell_type": "markdown",
   "metadata": {},
   "source": [
    "### Number of nodes:"
   ]
  },
  {
   "cell_type": "code",
   "execution_count": null,
   "metadata": {},
   "outputs": [],
   "source": [
    "sqlite> SELECT COUNT(*) FROM nodes;"
   ]
  },
  {
   "cell_type": "markdown",
   "metadata": {},
   "source": [
    "**Output:** 41992"
   ]
  },
  {
   "cell_type": "markdown",
   "metadata": {},
   "source": [
    "### Number of ways:"
   ]
  },
  {
   "cell_type": "code",
   "execution_count": null,
   "metadata": {},
   "outputs": [],
   "source": [
    "sqlite> SELECT COUNT(*) FROM ways;"
   ]
  },
  {
   "cell_type": "markdown",
   "metadata": {},
   "source": [
    "**Output:** 7708 "
   ]
  },
  {
   "cell_type": "markdown",
   "metadata": {},
   "source": [
    "## Conributing users\n",
    "OpenStreetMap is acollabrative project so many users are involved in enetering the data that is used. We can query the database created in order to find out some more information about the number of users involved in creating the map for Dublin.\n"
   ]
  },
  {
   "cell_type": "markdown",
   "metadata": {},
   "source": [
    "### Number of Unique Users:"
   ]
  },
  {
   "cell_type": "code",
   "execution_count": null,
   "metadata": {},
   "outputs": [],
   "source": [
    "sqlite> SELECT COUNT(DISTINCT(t.uid))          \n",
    "        FROM (\n",
    "            SELECT uid FROM nodes UNION ALL SELECT uid FROM ways\n",
    "            ) t;"
   ]
  },
  {
   "cell_type": "markdown",
   "metadata": {},
   "source": [
    "**Output:** There are 619 unique users."
   ]
  },
  {
   "cell_type": "markdown",
   "metadata": {},
   "source": [
    "### Number of users with one contribution:"
   ]
  },
  {
   "cell_type": "code",
   "execution_count": null,
   "metadata": {},
   "outputs": [],
   "source": [
    "sqlite> SELECT COUNT(*) \n",
    "        FROM(\n",
    "            SELECT t.user, COUNT(*) as num\n",
    "            FROM (\n",
    "                SELECT user FROM nodes UNION ALL SELECT user FROM ways) t\n",
    "            GROUP BY t.user\n",
    "        HAVING num=1) t2;"
   ]
  },
  {
   "cell_type": "markdown",
   "metadata": {},
   "source": [
    "**Output:** 206 users have made one contribution."
   ]
  },
  {
   "cell_type": "markdown",
   "metadata": {},
   "source": [
    "### Top 5 users with the most contributions:"
   ]
  },
  {
   "cell_type": "code",
   "execution_count": null,
   "metadata": {},
   "outputs": [],
   "source": [
    "sqlite> SELECT t.user, COUNT(*) as num\n",
    "        FROM (\n",
    "            SELECT user FROM nodes UNION ALL SELECT user FROM ways\n",
    "            ) t\n",
    "        GROUP BY t.user\n",
    "        ORDER BY num DESC\n",
    "        LIMIT 5;"
   ]
  },
  {
   "cell_type": "markdown",
   "metadata": {},
   "source": [
    "**Output:** The top 5 users with the most contributions are:\n",
    "* \"Nick Burrett\",6220\n",
    "* brianh,5840\n",
    "* Dafo43,5635\n",
    "* mackerski,5609\n",
    "* VictorIE,4874"
   ]
  },
  {
   "cell_type": "markdown",
   "metadata": {},
   "source": [
    "## Number of schools:"
   ]
  },
  {
   "cell_type": "code",
   "execution_count": null,
   "metadata": {},
   "outputs": [],
   "source": [
    "sqlite> SELECT COUNT(*) AS num\n",
    "        FROM nodes_tags\n",
    "        WHERE nodes_tags.value = 'school';"
   ]
  },
  {
   "cell_type": "markdown",
   "metadata": {},
   "source": [
    "**Output:** There are 2 schools listed."
   ]
  },
  {
   "cell_type": "markdown",
   "metadata": {},
   "source": [
    "## Number of amenities:"
   ]
  },
  {
   "cell_type": "code",
   "execution_count": null,
   "metadata": {},
   "outputs": [],
   "source": [
    "sqlite> SELECT value, COUNT(*) AS num\n",
    "        FROM nodes_tags\n",
    "        WHERE nodes_tags.key = 'amenity'\n",
    "        GROUP BY value\n",
    "        ORDER BY num DESC \n",
    "        LIMIT 10;"
   ]
  },
  {
   "cell_type": "markdown",
   "metadata": {},
   "source": [
    "**Output:** The top 10 amenities are:\n",
    "* bench,22\n",
    "* restaurant,21\n",
    "* cafe,20\n",
    "* bicycle_parking,18\n",
    "* pub,18\n",
    "* post_box,15\n",
    "* fast_food,9\n",
    "* bank,8\n",
    "* waste_basket,8\n",
    "* atm,7"
   ]
  },
  {
   "cell_type": "markdown",
   "metadata": {},
   "source": [
    "## Religion:\n",
    "Ireland is a religious country with a largely Christian population so it'll be interesting to see the ratio of different religions within Dublin. "
   ]
  },
  {
   "cell_type": "code",
   "execution_count": null,
   "metadata": {},
   "outputs": [],
   "source": [
    "sqlite> SELECT nodes_tags.value, COUNT(*) as num\n",
    "        FROM nodes_tags \n",
    "            JOIN (SELECT DISTINCT(id) FROM nodes_tags WHERE value='place_of_worship') t\n",
    "            ON nodes_tags.id=t.id\n",
    "        WHERE nodes_tags.key='religion'\n",
    "        GROUP BY nodes_tags.value\n",
    "        ORDER BY num DESC;\n",
    "        \n"
   ]
  },
  {
   "cell_type": "markdown",
   "metadata": {},
   "source": [
    "**Output:** Strangely enough, this isn't showing an output so I'll check to see how many places of worship appear in the csv file:  "
   ]
  },
  {
   "cell_type": "code",
   "execution_count": null,
   "metadata": {},
   "outputs": [],
   "source": [
    "SELECT COUNT(*) AS num\n",
    "        FROM nodes_tags\n",
    "        WHERE nodes_tags.value = 'place_of_worship';"
   ]
  },
  {
   "cell_type": "markdown",
   "metadata": {},
   "source": [
    "This shows that there are 0 places of worship recorded in the csv file. Since the csv file was generated from a small sample of the map of Dublin it is not entirely represntative of all of Dublin."
   ]
  },
  {
   "cell_type": "markdown",
   "metadata": {},
   "source": [
    "## 5. Additional ideas\n",
    "\n",
    "Suggestions for improving the data accuracy in OpenStreetMap include:\n",
    "* Make all letters in postcodes uppercase - If OSM stored all letters in postcodes in uppercase there would be a bit more consistency. \n",
    "* There should be documentation on standard practices, e.g. for phone numbers whether to use brackets, dashes and spaces. Some fields had underscores filled in as the user who entered the data probably didn't know that bit of information. There could also check to make sure that just numbers have been entered, no special characters, except + which is often used in area codes.  \n",
    "* Additionally OSM could have guidelines for whether addresses contain full names or abbreviated name for example, \"Avenue\" or \"Ave.\" \n",
    "\n",
    "Anticipated problems for suggestions:\n",
    "* A contributor may want to add a new building but not know the phone number. Forcing validation, a user may just entry a random list of numbers with the same format as a phone number. This would cause issues later on when wrangling the data as it would be harder to detect incorrect phone numbers.\n",
    "* OpenStreetMap relies on open source data, so enforcing stricter validation may lead to less people contributing towards he data. There may be local users who want to input a small bit of information about their favourite coffee shop for example, but the might not know the post code. Stricter validation may lead to users being unable to upload small bits of information about places they know which could then lead to a much less complete set of data for OpenStreetMap to work with."
   ]
  },
  {
   "cell_type": "markdown",
   "metadata": {},
   "source": [
    "### Files"
   ]
  },
  {
   "cell_type": "markdown",
   "metadata": {},
   "source": [
    "* top_level_tags -> Find out waht the top level tags are and how many of them there are.\n",
    "* tagtype.py -> Check the \"k\" value for each \"tag\" tag and see if there are any potential problems.\n",
    "* users.py -> Find out how many users contributed to the Dublin map.\n",
    "* audit.py -> audit data for street names.\n",
    "* eircodes.py -> audit data for eircodes.\n",
    "* schema.py -> schemas to be generated.\n",
    "* data.py -> Clean data and store in genrated csv files."
   ]
  }
 ],
 "metadata": {
  "kernelspec": {
   "display_name": "Python (py3)",
   "language": "python",
   "name": "py3"
  },
  "language_info": {
   "codemirror_mode": {
    "name": "ipython",
    "version": 3
   },
   "file_extension": ".py",
   "mimetype": "text/x-python",
   "name": "python",
   "nbconvert_exporter": "python",
   "pygments_lexer": "ipython3",
   "version": "3.6.4"
  }
 },
 "nbformat": 4,
 "nbformat_minor": 2
}
