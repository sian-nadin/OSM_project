{
 "cells": [
  {
   "cell_type": "markdown",
   "metadata": {},
   "source": [
    "# Open Street Map data\n",
    "\n",
    "## Project Overview\n",
    "The aim of this project is to choose any area of the world in https://www.openstreetmap.org and use data wrangling techniques, such as assessing the quality of the data for validity, accuracy, completeness, consistency and uniformity, to clean the OpenStreetMap data for that part of the world. Once the data has been cleaned SQL will will be used to query and aggregate the data.\n",
    "\n",
    "### OSM Dataset\n",
    "The area selected for this project is Dublin city in Ireland. Dublin is the capital city of Ireland with a population of 1,347,359 people. I chose Dublin as I've lived there for nearly 10 years and am quite familiar with the area. \n",
    "\n",
    "* Location: Dublin, Ireland\n",
    "* [OpenStreetMap URL](https://www.openstreetmap.org/export#map=11/53.3549/-6.2512)\n",
    "* [MapZen URL](https://mapzen.com/data/metro-extracts/metro/dublin_ireland/) "
   ]
  },
  {
   "cell_type": "markdown",
   "metadata": {},
   "source": [
    "## Data Overview"
   ]
  },
  {
   "cell_type": "markdown",
   "metadata": {},
   "source": [
    "Let's get an idea of what the top level tags are in the OSM file. Since the file is quite large iterative parsing will be used to process the map file and find out what tags are there, as well as how many, to get the feeling on how much of which data you can expect to have in the map."
   ]
  },
  {
   "cell_type": "code",
   "execution_count": 1,
   "metadata": {},
   "outputs": [],
   "source": [
    "OSMFILE = \"dublin_ireland.osm\""
   ]
  },
  {
   "cell_type": "code",
   "execution_count": 2,
   "metadata": {},
   "outputs": [
    {
     "data": {
      "text/plain": [
       "{'bounds': 1,\n",
       " 'member': 91716,\n",
       " 'nd': 2028541,\n",
       " 'node': 1469711,\n",
       " 'osm': 1,\n",
       " 'relation': 4989,\n",
       " 'tag': 1060747,\n",
       " 'way': 269763}"
      ]
     },
     "execution_count": 2,
     "metadata": {},
     "output_type": "execute_result"
    }
   ],
   "source": [
    "import top_level_tags\n",
    "top_level_tags.count_tags(OSMFILE)"
   ]
  },
  {
   "cell_type": "markdown",
   "metadata": {},
   "source": [
    "The file is 369.4 MB and there are nearly 5,000,000 top level tags. "
   ]
  },
  {
   "cell_type": "markdown",
   "metadata": {},
   "source": [
    "## Check for potential problems in tags"
   ]
  },
  {
   "cell_type": "markdown",
   "metadata": {},
   "source": [
    "Let's explore the data a bit more. Before processing the data and adding it into a database, we can check the\n",
    "\"k\" value for each \"tag\" tag and see if there are any potential problems.\n",
    "\n",
    "We can get a count of each of four tag categories in a dictionary:\n",
    "* \"lower\", for tags that contain only lowercase letters and are valid,\n",
    "* \"lower_colon\", for otherwise valid tags with a colon in their names,\n",
    "* \"problemchars\", for tags with problematic characters, and\n",
    "* \"other\", for other tags that do not fall into the other three categories."
   ]
  },
  {
   "cell_type": "code",
   "execution_count": 3,
   "metadata": {},
   "outputs": [
    {
     "data": {
      "text/plain": [
       "{'lower': 673577, 'lower_colon': 342839, 'other': 44331, 'problemchars': 0}"
      ]
     },
     "execution_count": 3,
     "metadata": {},
     "output_type": "execute_result"
    }
   ],
   "source": [
    "import tagtype\n",
    "tagtype.process_map(OSMFILE)"
   ]
  },
  {
   "cell_type": "markdown",
   "metadata": {},
   "source": [
    "## Number of contributors"
   ]
  },
  {
   "cell_type": "markdown",
   "metadata": {},
   "source": [
    "OpenStreetMap consists of data contributed by multiple people. Each piece of data in the OSMFILE is accompanied by the user_id of the person who entered it. We can find out how many people have contributed towards the data the makes up the map of Dublin:"
   ]
  },
  {
   "cell_type": "code",
   "execution_count": 4,
   "metadata": {},
   "outputs": [
    {
     "name": "stdout",
     "output_type": "stream",
     "text": [
      "Number of unique contributors: 1602\n"
     ]
    }
   ],
   "source": [
    "import users\n",
    "users.number_of_users(OSMFILE)"
   ]
  },
  {
   "cell_type": "markdown",
   "metadata": {},
   "source": [
    "## Data Auditing\n",
    "\n",
    "The following steps will be taken to audit the OSMFILE:\n",
    "1. Create a variable, 'mapping', that will replace incorrect or inconsistent entries with appropriate names/formating. Only problems found in this OSMFILE will use mapping rather than a generalized solution, since that may and will depend on the particular area being audited.\n",
    "2. Write a function to actually fix the street name. The function takes a string with street name as an argument and should return the fixed version."
   ]
  },
  {
   "cell_type": "markdown",
   "metadata": {},
   "source": [
    "## 1. Fix street names"
   ]
  },
  {
   "cell_type": "code",
   "execution_count": 13,
   "metadata": {},
   "outputs": [],
   "source": [
    "%%capture\n",
    "import audit\n",
    "audit.audit_street(OSMFILE)"
   ]
  },
  {
   "cell_type": "markdown",
   "metadata": {},
   "source": [
    "Although plenty of extra street names show up that weren't in the expected list, most of them are less common street names that are acceptable. There are a few abbreviated street names and some spelling mistakes that can be fixed using mapping."
   ]
  },
  {
   "cell_type": "code",
   "execution_count": 6,
   "metadata": {},
   "outputs": [
    {
     "name": "stdout",
     "output_type": "stream",
     "text": [
      "Strand Rd. => Strand Road\n",
      "Upper Gardiner St. => Upper Gardiner Street\n",
      "Charlemont St. => Charlemont Street\n",
      "Old Dublin Roafd => Old Dublin Road\n",
      "Griffith Ave => Griffith Avenue\n",
      "First Ave => First Avenue\n",
      "Spruce Ave => Spruce Avenue\n",
      "The Rise,Belgard heights => The Rise,Belgard Heights\n",
      "Ballinclea heights => Ballinclea Heights\n",
      "Charlestown Shopping Cente => Charlestown Shopping Centre\n",
      "library square => library Square\n",
      "Francis St => Francis Street\n",
      "Woodview Heichts => Woodview Heights\n",
      "Oak Ridge Cres => Oak Ridge Crescent\n",
      "Suffolk street => Suffolk Street\n",
      "Earl street => Earl Street\n",
      "Grafton street => Grafton Street\n",
      "O'Reilly Aveune => O'Reilly Avenue\n",
      "New market hall => New market Hall\n",
      "St Johns Rd => St Johns Road\n",
      "Novara road => Novara Road\n",
      "Warner's lane => Warner's Lane\n",
      "Hanbury lane => Hanbury Lane\n"
     ]
    },
    {
     "data": {
      "text/plain": [
       "'Clonkeen'"
      ]
     },
     "execution_count": 6,
     "metadata": {},
     "output_type": "execute_result"
    }
   ],
   "source": [
    "audit.update_street_name(OSMFILE)"
   ]
  },
  {
   "cell_type": "markdown",
   "metadata": {},
   "source": [
    "## 2. Fix Eircodes (Postal codes)"
   ]
  },
  {
   "cell_type": "code",
   "execution_count": 12,
   "metadata": {},
   "outputs": [],
   "source": [
    "%%capture\n",
    "import eircodes\n",
    "eircodes.audit(OSMFILE)"
   ]
  },
  {
   "cell_type": "markdown",
   "metadata": {},
   "source": [
    "The acceptable format for Eircodes is XXX XXXX. Some of the Eircodes are missing the space in the middle so we'll fix this. \n",
    "\n",
    "Ireland recently introduced Eircodes which each represent a single building. There are some post codes that are still using the old convention of postcode which was listed as Dublin and a number to indicate the region of Dublin, e.g \"Dublin 2\". The numbers listed at the top are likely from the older system of postcodes where it was common to either list a postcode in the format \"Dublin 2\", \"D2\" or just \"2\" to specify the region of Dublin. \n",
    "\n",
    "These old post codes can't be easily translated to Eircodes. The old convention represented a region within Dublin but the new Eircodes represent specific buildings. So for each of the old post codes there are now hundreds of unique Eircodes in it's place. To convert over to the new system would require time consuming manual work of pin pointing each of the specific building and finding out what the newly assigned Eircode is for that building. So, we will just stick to tidying up the formatting for the new Eircodes that have been entered."
   ]
  },
  {
   "cell_type": "code",
   "execution_count": 8,
   "metadata": {},
   "outputs": [
    {
     "name": "stdout",
     "output_type": "stream",
     "text": [
      "D01X2P2 => D01 X2P2\n",
      "D15KPW7 => D15 KPW7\n",
      "D02X285 => D02 X285\n",
      "D05N7F2 => D05 N7F2\n",
      "D08P 89W => D08 P89W\n",
      "D6WXK28 => D6W XK28\n",
      "d09 f6x0 => D09 F6X0\n",
      "D09VY19 => D09 VY19\n"
     ]
    },
    {
     "data": {
      "text/plain": [
       "'D01 NW14'"
      ]
     },
     "execution_count": 8,
     "metadata": {},
     "output_type": "execute_result"
    }
   ],
   "source": [
    "eircodes.update_eircode(OSMFILE)"
   ]
  },
  {
   "cell_type": "markdown",
   "metadata": {},
   "source": [
    "## Preparing Data for Database"
   ]
  },
  {
   "cell_type": "markdown",
   "metadata": {},
   "source": [
    "After auditing is complete the next step is to prepare the data to be inserted into a SQL database. To do so we will parse the elements in the OSM XML file, transforming them from document format to tabular format, thus making it possible to write to .csv files.  These csv files can then easily be imported to a SQL database as tables. \n",
    "\n",
    "The process for this transformation is as follows:\n",
    "- Use iterparse to iteratively step through each top level element in the XML\n",
    "- Shape each element into several data structures using a custom function\n",
    "- Utilize a schema and validation library to ensure the transformed data is in the correct format\n",
    "- Write each data structure to the appropriate .csv files\n",
    "\n",
    "The data.py file generates the following csv files:\n",
    "* nodes_tags.csv\n",
    "* nodes.csv \n",
    "* ways_nodes.csv\n",
    "* ways_tags.csv\n",
    "* ways.csv"
   ]
  },
  {
   "cell_type": "markdown",
   "metadata": {},
   "source": [
    "## 4. Data Exploration\n",
    "\n",
    "### TODO:\n",
    "Database queries are used to provide a statistical overview of the dataset, like:\n",
    "* size of the file\n",
    "* number of unique users\n",
    "* number of nodes and ways\n",
    "* number of chosen type of nodes, like cafes, shops etc.\n",
    "Additional statistics not in the list above are computed. For SQL submissions some queries make use of more than one table."
   ]
  },
  {
   "cell_type": "markdown",
   "metadata": {},
   "source": [
    "## 5. Additional ideas\n",
    "\n",
    "### TODO:\n",
    "* One or more additional suggestions for improving the data or its analysis. The suggestions are backed up by at least one investigative query.\n",
    "* Discussion about the benefits as well as some anticipated problems in implementing the improvement.\n",
    "\n",
    "Suggestion: \n",
    "* Updating postcodes. Ireland only recently got postcodes, known as Eircode. Before that there were just postcodes in Dublin. IF OSM put all letters in Eircode to uppercasethere would be a bit more consistency. \n",
    "* There should be documentation on standard practices, e.g. for phone numbers whether to use brackets, dashes and spaces. Saw some fields that had underscores filled in as the user who entered the data probably didnt know that bit of information. Also check to make sure that just numbers have been entered, no special characters, except + which is often used in area codes.  \n",
    "* Additonally OSM could have guidelines for whether addresses contain full names or abbreviated name for, e.g. \"Avenue\" or \"Ave.\" "
   ]
  },
  {
   "cell_type": "markdown",
   "metadata": {},
   "source": [
    "## Conclusion"
   ]
  },
  {
   "cell_type": "markdown",
   "metadata": {},
   "source": [
    "### Files"
   ]
  },
  {
   "cell_type": "markdown",
   "metadata": {},
   "source": [
    "* top_level_tags -> Find out waht the top level tags are and how many of them there are.\n",
    "* tagtype.py -> Check the \"k\" value for each \"tag\" tag and see if there are any potential problems.\n",
    "* users.py -> Find out how many users contributed to the Dublin map.\n",
    "* audit.py -> audit data for street names.\n",
    "* eircodes.py -> audit data for eircodes.\n",
    "* schema.py -> schemas to be generated.\n",
    "* data.py -> Clean data and store in genrated csv files."
   ]
  },
  {
   "cell_type": "code",
   "execution_count": null,
   "metadata": {},
   "outputs": [],
   "source": []
  }
 ],
 "metadata": {
  "kernelspec": {
   "display_name": "Python (py3)",
   "language": "python",
   "name": "py3"
  },
  "language_info": {
   "codemirror_mode": {
    "name": "ipython",
    "version": 3
   },
   "file_extension": ".py",
   "mimetype": "text/x-python",
   "name": "python",
   "nbconvert_exporter": "python",
   "pygments_lexer": "ipython3",
   "version": "3.6.4"
  }
 },
 "nbformat": 4,
 "nbformat_minor": 2
}
