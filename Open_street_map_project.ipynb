{
 "cells": [
  {
   "cell_type": "markdown",
   "metadata": {},
   "source": [
    "# Open Street Map data\n",
    "\n",
    "## Project Overview\n",
    "To choose any area of the world in https://www.openstreetmap.org and use data wrangling techniques, such as assessing the quality of the data for validity, accuracy, completeness, consistency and uniformity, to clean the OpenStreetMap data for that part of the world. Finally, use SQL as the data schema to complete your project by storing, querying and aggregating the data.\n",
    "\n",
    "### OSM Dataset\n",
    "The area selected for this project is Dublin city in Ireland. \n",
    "\n",
    "* Location: Dublin, Ireland\n",
    "* [OpenStreetMap URL](https://www.openstreetmap.org/export#map=11/53.3549/-6.2512)\n",
    "* [MapZen URL](https://mapzen.com/data/metro-extracts/metro/dublin_ireland/)"
   ]
  },
  {
   "cell_type": "markdown",
   "metadata": {},
   "source": [
    "## Data Overview"
   ]
  },
  {
   "cell_type": "markdown",
   "metadata": {},
   "source": [
    "Let's get an idea of what the top level tags are. Since the file is quite large instead of reading it in to memory as an XML tree I'll use iterative parsing to process the map file and find out not only what tags are there, but also how many, to get the feeling on how much of which data you can expect to have in the map."
   ]
  },
  {
   "cell_type": "code",
   "execution_count": 2,
   "metadata": {},
   "outputs": [
    {
     "name": "stdout",
     "output_type": "stream",
     "text": [
      "{'bounds': 1,\n",
      " 'member': 91716,\n",
      " 'nd': 2028541,\n",
      " 'node': 1469711,\n",
      " 'osm': 1,\n",
      " 'relation': 4989,\n",
      " 'tag': 1060747,\n",
      " 'way': 269763}\n"
     ]
    }
   ],
   "source": [
    "# -*- coding: utf-8 -*-\n",
    "import xml.etree.cElementTree as ET\n",
    "import pprint\n",
    "\n",
    "OSMFILE = \"dublin_ireland.osm\"\n",
    "\n",
    "def count_tags(filename):\n",
    "# return a dictionary with the tag name as the key and number of times \n",
    "# this tag can be encountered in the map as value. \n",
    "    tags = {}\n",
    "    # iteratively parse the file\n",
    "    for event, elem in ET.iterparse(filename):\n",
    "        if elem.tag in tags: \n",
    "            tags[elem.tag] += 1\n",
    "        else:\n",
    "            tags[elem.tag] = 1\n",
    "    return tags\n",
    "\n",
    "pprint.pprint(count_tags(OSMFILE))"
   ]
  },
  {
   "cell_type": "markdown",
   "metadata": {},
   "source": [
    "The file is 369.4 MB and there are nearly 5,000,000 top level tags. "
   ]
  },
  {
   "cell_type": "markdown",
   "metadata": {},
   "source": [
    "### Nodes\n",
    "\n",
    "A node is one of the core elements in the OpenStreetMap data model. It consists of a single point in space defined by its latitude, longitude and node id. A third, optional dimension (altitude) can also be included. A node can also be defined as part of a particular layer=* or level=*, where distinct features pass over or under one another; say, at a bridge.\n",
    "Nodes can be used to define standalone point features, but are more often used to define the shape or \"path\" of a way"
   ]
  },
  {
   "cell_type": "markdown",
   "metadata": {},
   "source": [
    "### Ways\n",
    "\n",
    "A way is an ordered list of nodes which normally also has at least one tag or is included within a Relation.  way can be open or closed. A closed way is one whose last node on the way is also the first on that way. A closed way may be interpreted either as a closed polyline, or an area, or both. An open way is way describing a linear feature which does not share a first and last node. Many roads, streams and railway lines are open ways.\n",
    "\n",
    "Relations are used to model logical (and usually local) or geographic relationships between objects. They are not designed to hold loosely associated but widely spread items."
   ]
  },
  {
   "cell_type": "markdown",
   "metadata": {},
   "source": [
    "### Check fot potential problems in tags"
   ]
  },
  {
   "cell_type": "markdown",
   "metadata": {},
   "source": [
    "Let's explore the data a bit more. Before I process the data and add it into a database, I'll check the\n",
    "\"k\" value for each \"tag\" tag and see if there are any potential problems.\n",
    "We would like to change the data model and expand the \"addr:street\" type of keys to a dictionary like this:\n",
    "{\"address\": {\"street\": \"Some value\"}}. So, we have to see if we have such tags, and if we have any tags with\n",
    "problematic characters."
   ]
  },
  {
   "cell_type": "code",
   "execution_count": 3,
   "metadata": {},
   "outputs": [
    {
     "data": {
      "text/plain": [
       "{'lower': 673577, 'lower_colon': 342839, 'other': 44331, 'problemchars': 0}"
      ]
     },
     "execution_count": 3,
     "metadata": {},
     "output_type": "execute_result"
    }
   ],
   "source": [
    "import xml.etree.cElementTree as ET\n",
    "import re\n",
    "\n",
    "\"\"\"\n",
    "we want to get a count of each of four tag categories in a dictionary:\n",
    "  \"lower\", for tags that contain only lowercase letters and are valid,\n",
    "  \"lower_colon\", for otherwise valid tags with a colon in their names,\n",
    "  \"problemchars\", for tags with problematic characters, and\n",
    "  \"other\", for other tags that do not fall into the other three categories.\n",
    "\"\"\"\n",
    "#Regex patterns\n",
    "lower = re.compile(r'^([a-z]|_)*$')\n",
    "lower_colon = re.compile(r'^([a-z]|_)*:([a-z]|_)*$')\n",
    "problemchars = re.compile(r'[=\\+/&<>;\\'\"\\?%#$@\\,\\. \\t\\r\\n]')\n",
    "\n",
    "# check the \"k\" value for each \"<tag>\"\n",
    "def key_type(element, keys):\n",
    "    if element.tag == \"tag\":\n",
    "        for tag in element.iter('tag'):\n",
    "            if lower.search(tag.attrib['k']):\n",
    "                keys['lower'] += 1\n",
    "            elif lower_colon.search(tag.attrib['k']):\n",
    "                keys['lower_colon'] += 1\n",
    "            elif problemchars.search(tag.attrib['k']):\n",
    "                print(tag.attrib)\n",
    "                keys['problemchars'] += 1\n",
    "            else:\n",
    "                keys['other'] += 1\n",
    "    return keys\n",
    "\n",
    "def process_map(filename):\n",
    "    keys = {\"lower\": 0, \n",
    "            \"lower_colon\": 0, \n",
    "            \"problemchars\": 0, \n",
    "            \"other\": 0}\n",
    "    for _, element in ET.iterparse(filename):\n",
    "        keys = key_type(element, keys)\n",
    "\n",
    "    return keys \n",
    "\n",
    "process_map(\"dublin_ireland.osm\")"
   ]
  },
  {
   "cell_type": "markdown",
   "metadata": {},
   "source": [
    "### Number of contributors"
   ]
  },
  {
   "cell_type": "markdown",
   "metadata": {},
   "source": [
    "Im intersted in finding out how many unique users have contributed to this map. "
   ]
  },
  {
   "cell_type": "code",
   "execution_count": 4,
   "metadata": {},
   "outputs": [
    {
     "name": "stdout",
     "output_type": "stream",
     "text": [
      "Number of unique contributors: 1602\n"
     ]
    }
   ],
   "source": [
    "# -*- coding: utf-8 -*-\n",
    "import xml.etree.cElementTree as ET\n",
    "import re\n",
    "\n",
    "def process_map(filename):\n",
    "    users = set()\n",
    "    for _, element in ET.iterparse(filename):\n",
    "        try:\n",
    "            users.add(element.attrib['uid'])\n",
    "        except KeyError:\n",
    "            continue    \n",
    "    return users\n",
    "\n",
    "\n",
    "def test():\n",
    "    users = process_map(\"dublin_ireland.osm\")\n",
    "    print('Number of unique contributors:', len(users))\n",
    "\n",
    "test()"
   ]
  },
  {
   "cell_type": "markdown",
   "metadata": {},
   "source": [
    "## Data Auditing\n",
    "\n",
    "We will take two steps to audit the data:\n",
    "1. Audit the OSMFILE and create a variable, 'mapping', to reflect the changes needed to fix the unexpected street types to the appropriate ones in the expected list. Only add mappings only for the actual problems found in this OSMFILE, not a generalized solution, since that may and will depend on the particular area being auditing.\n",
    "2. Write a function to actually fix the street name. The function takes a string with street name as an argument and should return the fixed name."
   ]
  },
  {
   "cell_type": "code",
   "execution_count": 12,
   "metadata": {},
   "outputs": [],
   "source": [
    "import xml.etree.cElementTree as ET\n",
    "from collections import defaultdict\n",
    "import re\n",
    "import pprint\n",
    "\n",
    "OSMFILE = \"dublin_ireland.osm\"\n",
    "\n",
    "# Keep track of unusual street names\n",
    "# The value for each of the keys will be a set\n",
    "street_type_re = re.compile(r'\\b\\S+\\.?$', re.IGNORECASE)\n",
    "\n",
    "\n",
    "expected = [\"Street\", \"Avenue\", \"Court\", \"Place\", \"Square\", \"Lane\", \"Road\", \"Alley\", \"Arcade\",\n",
    "            \"Bridge\", \"Brook\", \"Centre\", \"Close\", \"Crescent\", \"Green\", \"Grove\", \"Parade\", \"Park\", \"Terrace\"]\n",
    "\n",
    "mapping = { \"Aveune\": \"Avenue\",\n",
    "            \"Ave\": \"Avenue\",\n",
    "            \"Cente\": \"Centre\",\n",
    "            \"Cres\":\"Crescent\",\n",
    "            \"hall\":\"Hall\",\n",
    "            \"Heichts\":\"Heights\",\n",
    "            \"lane\":\"Lane\",\n",
    "            \"Rd\":\"Road\",\n",
    "            \"Rd.\":\"Road\",\n",
    "            \"road\":\"Road\",\n",
    "            \"Roafd\":\"Road\",\n",
    "            \"St\":\"Street\",\n",
    "            \"St.\":\"Street\",\n",
    "            \"street\":\"Street\",\n",
    "            \"square\":\"Square\",\n",
    "            \"heights\":\"Heights\"\n",
    "            }\n",
    "#TODO: remove post code at end of street name?\n",
    "\n",
    "# Find street names that aren't in the expected list and add to street_types dictionary\n",
    "# Add specific street name to the set of values for a given street_type key\n",
    "def audit_street_type(street_types, street_name):\n",
    "    m = street_type_re.search(street_name)\n",
    "    if m:\n",
    "        street_type = m.group()\n",
    "        if street_type not in expected:\n",
    "            street_types[street_type].add(street_name)\n",
    "\n",
    "# Find out if nested tag is a street name\n",
    "def is_street_name(elem):\n",
    "    return (elem.attrib['k'] == \"addr:street\")\n",
    "\n",
    "\n",
    "def audit(osmfile):\n",
    "    osm_file = open(osmfile, \"r\")\n",
    "    street_types = defaultdict(set)\n",
    "    for event, elem in ET.iterparse(osm_file, events=(\"start\",)):\n",
    "\n",
    "        if elem.tag == \"node\" or elem.tag == \"way\":\n",
    "            for tag in elem.iter(\"tag\"):\n",
    "                if is_street_name(tag):\n",
    "                    audit_street_type(street_types, tag.attrib['v'])\n",
    "    #pprint.pprint(dict(street_types))\n",
    "    osm_file.close()\n",
    "    return street_types\n",
    "\n",
    "def update_name(name, mapping):\n",
    "    m = street_type_re.search(name)\n",
    "    if m.group() not in expected:\n",
    "        if m.group() in mapping.keys():\n",
    "            name = re.sub(m.group(), mapping[m.group()], name)\n",
    "    return name\n",
    "\n"
   ]
  },
  {
   "cell_type": "markdown",
   "metadata": {},
   "source": [
    "## 1. Problems Encountered in the Map"
   ]
  },
  {
   "cell_type": "markdown",
   "metadata": {},
   "source": [
    "1."
   ]
  },
  {
   "cell_type": "markdown",
   "metadata": {},
   "source": [
    "2."
   ]
  },
  {
   "cell_type": "markdown",
   "metadata": {},
   "source": [
    "3."
   ]
  },
  {
   "cell_type": "markdown",
   "metadata": {},
   "source": [
    "4."
   ]
  },
  {
   "cell_type": "markdown",
   "metadata": {},
   "source": [
    "## 2. Preparing Data for Database"
   ]
  },
  {
   "cell_type": "code",
   "execution_count": null,
   "metadata": {},
   "outputs": [],
   "source": []
  },
  {
   "cell_type": "markdown",
   "metadata": {},
   "source": []
  },
  {
   "cell_type": "markdown",
   "metadata": {},
   "source": [
    "## 4. Data Exploration"
   ]
  },
  {
   "cell_type": "markdown",
   "metadata": {},
   "source": [
    "## 5. Additional ideas"
   ]
  },
  {
   "cell_type": "markdown",
   "metadata": {},
   "source": [
    "## Conclusion"
   ]
  },
  {
   "cell_type": "markdown",
   "metadata": {},
   "source": [
    "### Files"
   ]
  },
  {
   "cell_type": "code",
   "execution_count": null,
   "metadata": {},
   "outputs": [],
   "source": []
  }
 ],
 "metadata": {
  "kernelspec": {
   "display_name": "Python 3",
   "language": "python",
   "name": "python3"
  },
  "language_info": {
   "codemirror_mode": {
    "name": "ipython",
    "version": 3
   },
   "file_extension": ".py",
   "mimetype": "text/x-python",
   "name": "python",
   "nbconvert_exporter": "python",
   "pygments_lexer": "ipython3",
   "version": "3.4.3"
  }
 },
 "nbformat": 4,
 "nbformat_minor": 2
}
